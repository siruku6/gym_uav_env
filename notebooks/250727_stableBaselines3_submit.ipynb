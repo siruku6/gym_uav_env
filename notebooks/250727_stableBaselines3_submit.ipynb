{
 "cells": [
  {
   "cell_type": "markdown",
   "id": "951c1048-30cb-43cf-9fe1-6aa6ec8e320d",
   "metadata": {},
   "source": [
    "# 自作シミュレーション環境におけるドローンの飛行制御\n"
   ]
  },
  {
   "cell_type": "code",
   "execution_count": null,
   "id": "501a97dc-4daa-4cad-a131-b9acebdc13d1",
   "metadata": {},
   "outputs": [],
   "source": [
    "import os\n",
    "import random\n",
    "from time import time\n",
    "\n",
    "import numpy as np\n",
    "import pandas as pd\n",
    "import torch\n",
    "from tqdm import tqdm\n",
    "\n",
    "import gymnasium as gym\n",
    "from stable_baselines3 import PPO  # , A2C # , SAC, DDPG \n",
    "from stable_baselines3.ppo.policies import MlpPolicy\n",
    "from stable_baselines3.common.evaluation import evaluate_policy\n",
    "\n",
    "from env.ground_for_propeller import PropellerDroneFlight, FlightRecorder\n",
    "from pybullet_sim_vis import SimCamera\n",
    "from parapara.generator import to_numpy, play_anim, save_as_mp4\n",
    "\n",
    "from utils.paths import OUTPUT_PATH, APP_ROOT_DIR\n"
   ]
  },
  {
   "cell_type": "markdown",
   "id": "e7849664-d447-4cb9-9e44-12e40cac8dcf",
   "metadata": {},
   "source": [
    "## 1. 共通モジュール\n"
   ]
  },
  {
   "cell_type": "code",
   "execution_count": null,
   "id": "823362cf-c338-4073-a3c1-522eebd09425",
   "metadata": {},
   "outputs": [],
   "source": [
    "def set_random_seed(seed: int, using_cuda: bool = False) -> None:\n",
    "    \"\"\"\n",
    "    Seed the different random generators.\n",
    "\n",
    "    :param seed:\n",
    "    :param using_cuda:\n",
    "    \"\"\"\n",
    "    # Seed python RNG\n",
    "    random.seed(seed)\n",
    "    # Seed numpy RNG\n",
    "    np.random.seed(seed)\n",
    "    # seed the RNG for all devices (both CPU and CUDA)\n",
    "    torch.manual_seed(seed)\n",
    "\n",
    "    # if using_cuda:\n",
    "    #     # Deterministic operations for CuDNN, it may impact performances\n",
    "    #     th.backends.cudnn.deterministic = True\n",
    "    #     th.backends.cudnn.benchmark = False\n",
    "\n",
    "\n",
    "\n",
    "def play_drone_with_model(model, specified_goal, gravity_enabled=True, complement_force=False, debug_mode=False) -> tuple:\n",
    "    frames = []\n",
    "    env = PropellerDroneFlight(\n",
    "        \"rgb_array\", weight_approach_reward=20, weight_force_penalty=0,\n",
    "        gravity_enabled=gravity_enabled, complement_force=complement_force,\n",
    "        specified_goal=specified_goal\n",
    "    )\n",
    "\n",
    "    # hist を貯めるための処理 -->\n",
    "    rows = 400\n",
    "    col_len = env.action_space.shape[0] + env.observation_space.shape[0]\n",
    "    hist = np.empty((rows + 1, col_len), dtype=np.float32)\n",
    "\n",
    "    obs, _ = env.reset()\n",
    "    hist[0] = np.concat([np.zeros(env.action_space.shape[0]), obs[:]])\n",
    "    # <-- hist を貯めるための処理\n",
    "\n",
    "    fr = FlightRecorder(goal=env.goal)\n",
    "    for i in tqdm(range(rows)):\n",
    "        action, _states = model.predict(obs) # モデルの推論\n",
    "        obs, reward, done, _, info = env.step(action)\n",
    "\n",
    "        hist[i + 1] = np.concat([action, obs[:]])\n",
    "        \n",
    "        fr.record_step(obs, action, reward, done, info)\n",
    "        frames.append(env.render())\n",
    "        if done:\n",
    "            print(\"Done in {} frame.\".format(i))\n",
    "            break\n",
    "    \n",
    "    env.close()\n",
    "\n",
    "    return frames, fr, hist\n",
    "\n",
    "\n",
    "set_random_seed(42)"
   ]
  },
  {
   "cell_type": "markdown",
   "id": "f02d1ebc-664b-4894-abb5-34f920cb3a83",
   "metadata": {},
   "source": [
    "## 2. PPO での学習実行\n",
    "\n",
    "項目|値\n",
    "--|--:\n",
    "重力加速度|9.8 m/(s^2)\n",
    "機体重量|4.0 kg\n",
    "Agent アルゴリズム|PPO\n",
    "学習ステップ|300000\n"
   ]
  },
  {
   "cell_type": "code",
   "execution_count": null,
   "id": "f0639399-a43e-461f-a8d7-809495b2d4e9",
   "metadata": {
    "scrolled": true
   },
   "outputs": [],
   "source": [
    "start = time()\n",
    "\n",
    "# 学習\n",
    "env = PropellerDroneFlight(\n",
    "    \"human\", weight_approach_reward=20, weight_force_penalty=0, gravity_enabled=True,\n",
    "    specified_goal=(5.0, 5.0, 5.0),debug_mode=True\n",
    ")\n",
    "\n",
    "log_path: str = APP_ROOT_DIR / \"logs\" / \"sb3_ppo\"\n",
    "model = PPO(MlpPolicy, env, tensorboard_log=log_path)\n",
    "model.learn(total_timesteps=3000000, progress_bar=True)  # 300000\n",
    "print(\"training finished\")\n",
    "\n",
    "print(time() - start, \"sec\")\n",
    "\n",
    "# 評価\n",
    "mean_rewards, std_rewards = evaluate_policy(model, env, n_eval_episodes=20, return_episode_rewards=True)\n",
    "\n",
    "pd.DataFrame({\"mean_reward\": mean_rewards, \"+/- std\": std_rewards})\n",
    "\n"
   ]
  },
  {
   "cell_type": "markdown",
   "id": "063b9b47-35af-454b-9afa-38153bec4a34",
   "metadata": {},
   "source": [
    "## 3. 学習したモデルパラメータで推論"
   ]
  },
  {
   "cell_type": "code",
   "execution_count": null,
   "id": "aa94925c-377e-4844-9f11-794b9e2fa069",
   "metadata": {},
   "outputs": [],
   "source": [
    "frames, fr, hist = play_drone_with_model(model, specified_goal=(5.0, 5.0, 5.0), debug_mode=False)\n",
    "obs, _ = env.reset()\n",
    "columns = [f\"prop_rot_{i}\" for i  in range(env.action_space.shape[0])] + list(obs._fields)\n",
    "\n",
    "df_hist = pd.DataFrame(hist, columns=columns)\n",
    "df_hist_renamed = df_hist.rename({\n",
    "    \"rot_x\": \"rotation_x\", \"rot_y\": \"rotation_y\", \"rot_z\": \"rotation_z\",\n",
    "    \"pos_x\": \"position_x\", \"pos_y\": \"position_y\", \"pos_z\": \"position_z\",\n",
    "}, axis=1)\n",
    "df_hist_renamed\n"
   ]
  },
  {
   "cell_type": "markdown",
   "id": "a2b6e8a5-58ad-4203-beee-902e9adeb871",
   "metadata": {},
   "source": [
    "## 4. 推論結果の可視化"
   ]
  },
  {
   "cell_type": "code",
   "execution_count": null,
   "id": "87561cf6-73cd-4b53-bc3f-ebbb92bf143c",
   "metadata": {},
   "outputs": [],
   "source": [
    "disp = play_anim(frames)\n",
    "disp\n"
   ]
  },
  {
   "cell_type": "code",
   "execution_count": null,
   "id": "395af8c1-619b-47eb-b4f9-c52449dc5608",
   "metadata": {},
   "outputs": [],
   "source": [
    "save_as_mp4(frames, str(OUTPUT_PATH / \"sb3_ppo_3_million_ep_dots.gif\"), fps=10)\n"
   ]
  },
  {
   "cell_type": "code",
   "execution_count": null,
   "id": "28e8f644-6843-4df7-a64e-310204fff30f",
   "metadata": {},
   "outputs": [],
   "source": [
    "len(df_hist_renamed)"
   ]
  },
  {
   "cell_type": "code",
   "execution_count": null,
   "id": "2670a0da-0ec9-423e-8899-c92de7c4222d",
   "metadata": {},
   "outputs": [],
   "source": [
    "frames = SimCamera(\n",
    "    main_urdf_path=str(APP_ROOT_DIR / \"data\" / \"drone.urdf\"),\n",
    "    save_frequency=1\n",
    ").convert_to_images(df_hist_renamed)\n",
    "anim = play_anim(frames)\n",
    "anim\n"
   ]
  },
  {
   "cell_type": "code",
   "execution_count": null,
   "id": "7d96193e-6ec7-44a3-8757-525e01f9ce3a",
   "metadata": {},
   "outputs": [],
   "source": [
    "len(frames)"
   ]
  },
  {
   "cell_type": "code",
   "execution_count": null,
   "id": "0429f9dc-9832-4ab5-87d0-c223de93ad41",
   "metadata": {},
   "outputs": [],
   "source": [
    "save_as_mp4(frames, str(OUTPUT_PATH / \"sb3_ppo_3_million_ep_real.gif\"), fps=10)\n"
   ]
  }
 ],
 "metadata": {
  "kernelspec": {
   "display_name": "Python 3 (ipykernel)",
   "language": "python",
   "name": "python3"
  },
  "language_info": {
   "codemirror_mode": {
    "name": "ipython",
    "version": 3
   },
   "file_extension": ".py",
   "mimetype": "text/x-python",
   "name": "python",
   "nbconvert_exporter": "python",
   "pygments_lexer": "ipython3",
   "version": "3.12.10"
  }
 },
 "nbformat": 4,
 "nbformat_minor": 5
}
